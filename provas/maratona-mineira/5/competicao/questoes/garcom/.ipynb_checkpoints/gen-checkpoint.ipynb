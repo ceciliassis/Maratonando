{
 "cells": [
  {
   "cell_type": "code",
   "execution_count": 1,
   "metadata": {
    "collapsed": false
   },
   "outputs": [],
   "source": [
    "import collections, random, math, os, string"
   ]
  },
  {
   "cell_type": "code",
   "execution_count": 2,
   "metadata": {
    "collapsed": true
   },
   "outputs": [],
   "source": [
    "random.seed(\"The outcome is not up to you. The outlook is.\")"
   ]
  },
  {
   "cell_type": "code",
   "execution_count": 3,
   "metadata": {
    "collapsed": true
   },
   "outputs": [],
   "source": [
    "def writeFile(path, test_case):\n",
    "    with open(path, 'w') as f:\n",
    "        test_case.write(f)"
   ]
  },
  {
   "cell_type": "code",
   "execution_count": 4,
   "metadata": {
    "collapsed": true
   },
   "outputs": [],
   "source": [
    "def writeAllTests(directory, tests):\n",
    "    for test_number, test_case in enumerate(tests):\n",
    "        path = os.path.join(directory, \"file\" + str(test_number))\n",
    "        writeFile(path, test_case)\n",
    "        if not test_case.validate():\n",
    "            print 'Invalid test writen to', path"
   ]
  },
  {
   "cell_type": "code",
   "execution_count": 5,
   "metadata": {
    "collapsed": true
   },
   "outputs": [],
   "source": [
    "def printList(f, l):\n",
    "    f.write(\"%d\" % l[0])\n",
    "    for x in l[1:]:\n",
    "        f.write(\" %d\" % x)\n",
    "    f.write(\"\\n\")"
   ]
  },
  {
   "cell_type": "code",
   "execution_count": 6,
   "metadata": {
    "collapsed": false
   },
   "outputs": [],
   "source": [
    "class TestCase:\n",
    "    a = []\n",
    "    k = 0\n",
    "    \n",
    "    def __init__(self, a, k):\n",
    "        self.a = a\n",
    "        self.k = k\n",
    "    \n",
    "    def validate(self):\n",
    "        if len(self.a) < 1 or len(self.a) > 100:\n",
    "            return False\n",
    "        if self.k < 1 or self.k > len(self.a):\n",
    "            return False\n",
    "        if min(self.a) < 1 or max(self.a) > 10**5:\n",
    "            return False\n",
    "        \n",
    "        return True\n",
    "    \n",
    "    def write(self, f):\n",
    "        print >> f, len(self.a), self.k\n",
    "        printList(f, self.a)"
   ]
  },
  {
   "cell_type": "code",
   "execution_count": 25,
   "metadata": {
    "collapsed": false
   },
   "outputs": [],
   "source": [
    "def randomTestCase(n, k):\n",
    "    return TestCase([random.randint(1, 10**5) for _ in range(n)], k)\n",
    "\n",
    "def biasedRandomTestCase(n, k):\n",
    "    stacks = random.sample(range(n), k)\n",
    "    a = [random.randint(1, + 1000 * (n - min([abs(x - i) for x in stacks]))) for i in range(n)]\n",
    "    return TestCase(a, k)\n"
   ]
  },
  {
   "cell_type": "code",
   "execution_count": 28,
   "metadata": {
    "collapsed": false
   },
   "outputs": [
    {
     "ename": "SyntaxError",
     "evalue": "invalid syntax (<ipython-input-28-dc05f648a558>, line 19)",
     "output_type": "error",
     "traceback": [
      "\u001b[1;36m  File \u001b[1;32m\"<ipython-input-28-dc05f648a558>\"\u001b[1;36m, line \u001b[1;32m19\u001b[0m\n\u001b[1;33m    writeAllTests(\"/tmp/input\", test_cases)\u001b[0m\n\u001b[1;37m                ^\u001b[0m\n\u001b[1;31mSyntaxError\u001b[0m\u001b[1;31m:\u001b[0m invalid syntax\n"
     ]
    }
   ],
   "source": [
    "test_cases = []\n",
    "\n",
    "#sample\n",
    "test_cases.append(TestCase([1, 1, 1, 1], 2))\n",
    "test_cases.append(TestCase([1, 2, 3, 2, 1], 1))\n",
    "\n",
    "#random and small\n",
    "test_cases.extend([randomTestCase(n,k) for n in range(10, 21,3) for k in range(2, 7, 2)])\n",
    "test_cases.extend([biasedRandomTestCase(n,k) for n in range(10, 21,3) for k in range(2, 7, 2)])\n",
    "\n",
    "#random and big\n",
    "test_cases.extend([randomTestCase(n,k) for n in [99, 100] for k in [11, 29, 73]])\n",
    "test_cases.extend([biasedRandomTestCase(n,k) for n in [99, 100] for k in [11, 29, 73]])\n",
    "\n",
    "test_cases.append(biasedRandomTestCase(100,1))\n",
    "\n",
    "\n",
    "\n",
    "writeAllTests(\"/tmp/input\", test_cases)"
   ]
  },
  {
   "cell_type": "code",
   "execution_count": 2,
   "metadata": {
    "collapsed": false
   },
   "outputs": [
    {
     "data": {
      "text/plain": [
       "7"
      ]
     },
     "execution_count": 2,
     "metadata": {},
     "output_type": "execute_result"
    }
   ],
   "source": [
    "max([3, 2, 1, 7, 2])"
   ]
  },
  {
   "cell_type": "code",
   "execution_count": 19,
   "metadata": {
    "collapsed": false
   },
   "outputs": [
    {
     "data": {
      "text/plain": [
       "0.16694680658143235"
      ]
     },
     "execution_count": 19,
     "metadata": {},
     "output_type": "execute_result"
    }
   ],
   "source": []
  },
  {
   "cell_type": "code",
   "execution_count": null,
   "metadata": {
    "collapsed": true
   },
   "outputs": [],
   "source": []
  }
 ],
 "metadata": {
  "kernelspec": {
   "display_name": "Python 2",
   "language": "python",
   "name": "python2"
  },
  "language_info": {
   "codemirror_mode": {
    "name": "ipython",
    "version": 2
   },
   "file_extension": ".py",
   "mimetype": "text/x-python",
   "name": "python",
   "nbconvert_exporter": "python",
   "pygments_lexer": "ipython2",
   "version": "2.7.6"
  }
 },
 "nbformat": 4,
 "nbformat_minor": 0
}
