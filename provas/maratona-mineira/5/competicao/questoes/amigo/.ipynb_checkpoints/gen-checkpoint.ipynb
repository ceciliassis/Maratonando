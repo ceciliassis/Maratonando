{
 "cells": [
  {
   "cell_type": "code",
   "execution_count": 55,
   "metadata": {
    "collapsed": false
   },
   "outputs": [],
   "source": [
    "import collections, random, math, os, string"
   ]
  },
  {
   "cell_type": "code",
   "execution_count": 56,
   "metadata": {
    "collapsed": true
   },
   "outputs": [],
   "source": [
    "random.seed(\"The outcome is not up to you. The outlook is.\")"
   ]
  },
  {
   "cell_type": "code",
   "execution_count": 57,
   "metadata": {
    "collapsed": true
   },
   "outputs": [],
   "source": [
    "def writeFile(path, test_case):\n",
    "    with open(path, 'w') as f:\n",
    "        test_case.write(f)"
   ]
  },
  {
   "cell_type": "code",
   "execution_count": 58,
   "metadata": {
    "collapsed": true
   },
   "outputs": [],
   "source": [
    "def writeAllTests(directory, tests):\n",
    "    for test_number, test_case in enumerate(tests):\n",
    "        path = os.path.join(directory, \"file\" + str(test_number))\n",
    "        writeFile(path, test_case)\n",
    "        if not test_case.validate():\n",
    "            print 'Invalid test writen to', path"
   ]
  },
  {
   "cell_type": "code",
   "execution_count": 59,
   "metadata": {
    "collapsed": true
   },
   "outputs": [],
   "source": [
    "def printList(f, l):\n",
    "    f.write(\"%d\" % l[0])\n",
    "    for x in l[1:]:\n",
    "        f.write(\" %d\" % x)\n",
    "    f.write(\"\\n\")"
   ]
  },
  {
   "cell_type": "code",
   "execution_count": 73,
   "metadata": {
    "collapsed": false
   },
   "outputs": [],
   "source": [
    "class TestCase:\n",
    "    friend = []\n",
    "    order = []\n",
    "    \n",
    "    def __init__(self, friend, order):\n",
    "        self.friend = friend\n",
    "        self.order = order\n",
    "    \n",
    "    def validate(self):\n",
    "        if len(self.friend) == 0 or len(self.friend) > 100:\n",
    "            return False\n",
    "        \n",
    "        if len(self.friend) != len(self.order):\n",
    "            return False\n",
    "        \n",
    "        if max(self.friend) > len(self.friend) or min(self.friend) < 1:\n",
    "            return False\n",
    "        \n",
    "        if len(set(self.friend)) != len(self.friend):\n",
    "            return False\n",
    "        \n",
    "        nz_order = [x for x in self.order if x != 0]\n",
    "        if max(nz_order + [0]) > len(self.friend) or min(nz_order + [100]) < 1:\n",
    "            return False\n",
    "        \n",
    "        if len(set(nz_order)) != len(nz_order):\n",
    "            return False\n",
    "        \n",
    "        return True\n",
    "    \n",
    "    def write(self, f):\n",
    "        print >> f, len(self.friend)\n",
    "        printList(f, self.friend)\n",
    "        printList(f, self.order)\n",
    "            \n",
    "            "
   ]
  },
  {
   "cell_type": "code",
   "execution_count": 68,
   "metadata": {
    "collapsed": false
   },
   "outputs": [],
   "source": [
    "\n",
    "def randomDerangement2(items):\n",
    "    d = items[:]\n",
    "    while True:\n",
    "        random.shuffle(d)\n",
    "        if not [i for i in range(len(items)) if d[i] == items[i]]:\n",
    "            return d\n",
    "\n",
    "def randomDerangement(n, c):\n",
    "    assert(2 * c <= n)\n",
    "    cycle_membership = []\n",
    "    w = []\n",
    "    for i in range(c):\n",
    "        cycle_membership.extend([i, i])\n",
    "        w.extend([i for _ in range(random.randint(1, 100))])\n",
    "        \n",
    "    \n",
    "    while len(cycle_membership) < n:\n",
    "        cycle_membership.append(random.choice(w))\n",
    "    \n",
    "    cycles = [[i for i in range(n) if cycle_membership[i] == j] for j in range(c)]\n",
    "    perm_cycles = [randomDerangement2(cycle[:]) for cycle in cycles]\n",
    "    \n",
    "    \n",
    "    p = range(n)\n",
    "    for i in range(c):\n",
    "        for j in range(len(cycles[i])):\n",
    "            p[cycles[i][j]] = perm_cycles[i][j] + 1\n",
    "    \n",
    "    return p\n",
    "    \n",
    "\n",
    "def randomOrder(d):\n",
    "    order = []\n",
    "    while len(order) < len(d):\n",
    "        cand = [x for x in d if x not in order]\n",
    "        k = random.choice(cand)\n",
    "        while not k in order:\n",
    "            order.append(k)\n",
    "            k = d[k - 1]\n",
    "    return order\n",
    "\n",
    "def decompose(perm):\n",
    "    cycles = []\n",
    "    used = []\n",
    "    for i in range(1, len(perm) + 1, 1):\n",
    "        k = i\n",
    "        cycle = []\n",
    "        while not k in used:\n",
    "            used.append(k)\n",
    "            cycle.append(k)\n",
    "            k = perm[k - 1]\n",
    "        if cycle:\n",
    "            cycles.append(cycle)\n",
    "    return cycles\n",
    "\n",
    "def randomShow(perm, p_yes):\n",
    "    cycles = decompose(perm)\n",
    "    q = math.exp(math.log(p_yes) / len(cycles))\n",
    "    show = []\n",
    "    for cycle in cycles:\n",
    "        prob = 1.0 - math.exp(math.log(1.0 - q) / len(cycle))\n",
    "        for x in cycle:\n",
    "            if random.random() < prob:\n",
    "                show.append(x)\n",
    "    return show\n",
    "\n",
    "def randomTestCase(n, c, p_yes):\n",
    "    perm = randomDerangement(n, c)\n",
    "    show = randomShow(perm, p_yes)\n",
    "    order = [x if x in show else 0 for x in randomOrder(perm)]\n",
    "    return TestCase(perm, order)\n",
    "    "
   ]
  },
  {
   "cell_type": "code",
   "execution_count": 74,
   "metadata": {
    "collapsed": false
   },
   "outputs": [],
   "source": [
    "test_cases = []\n",
    "\n",
    "#sample\n",
    "test_cases.append(TestCase([5, 1, 4, 3, 2], [3, 0, 0, 0, 5]))\n",
    "test_cases.append(TestCase([5, 1, 4, 3, 2], [0, 0, 1, 0, 2]))\n",
    "\n",
    "#pairs\n",
    "test_cases.append(TestCase([8, 7, 6, 5, 4, 3, 2, 1], [8, 1, 3, 6, 5, 4, 7, 2]))\n",
    "test_cases.append(TestCase([8, 7, 6, 5, 4, 3, 2, 1], [8, 0, 0, 6, 0, 4, 7, 0]))\n",
    "test_cases.append(TestCase([8, 7, 6, 5, 4, 3, 2, 1], [0, 1, 0, 6, 0, 4, 0, 2]))\n",
    "test_cases.append(TestCase([8, 7, 6, 5, 4, 3, 2, 1], [0, 1, 3, 0, 0, 4, 7, 0]))\n",
    "test_cases.append(TestCase([8, 7, 6, 5, 4, 3, 2, 1], [0, 0, 0, 6, 0, 4, 7, 0]))\n",
    "test_cases.append(TestCase([8, 7, 6, 5, 4, 3, 2, 1], [0, 0, 0, 6, 0, 4, 0, 2]))\n",
    "test_cases.append(TestCase([8, 7, 6, 5, 4, 3, 2, 1], [0, 0, 3, 0, 0, 4, 7, 0]))\n",
    "test_cases.append(TestCase([8, 7, 6, 5, 4, 3, 2, 1], [8, 0, 0, 0, 0, 4, 7, 0]))\n",
    "test_cases.append(TestCase([8, 7, 6, 5, 4, 3, 2, 1], [0, 1, 0, 0, 0, 4, 0, 2]))\n",
    "test_cases.append(TestCase([8, 7, 6, 5, 4, 3, 2, 1], [0, 1, 0, 0, 0, 4, 7, 0]))\n",
    "test_cases.append(TestCase([8, 7, 6, 5, 4, 3, 2, 1], [8, 0, 0, 6, 0, 0, 7, 0]))\n",
    "test_cases.append(TestCase([8, 7, 6, 5, 4, 3, 2, 1], [0, 1, 0, 6, 0, 0, 0, 2]))\n",
    "test_cases.append(TestCase([8, 7, 6, 5, 4, 3, 2, 1], [0, 1, 3, 0, 0, 0, 0, 0]))\n",
    "test_cases.append(TestCase([8, 7, 6, 5, 4, 3, 2, 1], [8, 0, 0, 6, 0, 4, 0, 0]))\n",
    "test_cases.append(TestCase([8, 7, 6, 5, 4, 3, 2, 1], [0, 1, 0, 6, 0, 4, 0, 0]))\n",
    "test_cases.append(TestCase([8, 7, 6, 5, 4, 3, 2, 1], [0, 1, 3, 0, 0, 4, 0, 0]))\n",
    "\n",
    "#random and small\n",
    "test_cases.extend([randomTestCase(n, c, 0.5) for n in [7, 8] for c in [1, 2, 3]])\n",
    "\n",
    "#random and big\n",
    "test_cases.extend([randomTestCase(n, c, 0.5) for n in [99, 100] for c in [1, 2, 4, 8, 16, 32]])\n",
    "\n",
    "\n",
    "\n",
    "\n",
    "writeAllTests(\"/tmp/input\", test_cases)"
   ]
  },
  {
   "cell_type": "code",
   "execution_count": 2,
   "metadata": {
    "collapsed": false
   },
   "outputs": [
    {
     "data": {
      "text/plain": [
       "7"
      ]
     },
     "execution_count": 2,
     "metadata": {},
     "output_type": "execute_result"
    }
   ],
   "source": [
    "max([3, 2, 1, 7, 2])"
   ]
  },
  {
   "cell_type": "code",
   "execution_count": 52,
   "metadata": {
    "collapsed": false
   },
   "outputs": [
    {
     "name": "stdout",
     "output_type": "stream",
     "text": [
      "[1, 2, 3, 4, 5, 6, 7, 8]\n",
      "[8, 7, 4, 3, 6, 5, 1, 2]\n",
      "[[1, 8, 2, 7], [3, 4], [5, 6]]\n",
      "[7, 1, 8, 2, 4, 3, 6, 5]\n"
     ]
    }
   ],
   "source": [
    "d = randomDerangement(8, 3)\n",
    "print sorted(d)\n",
    "print d\n",
    "print decompose(d)\n",
    "print randomOrder(d)"
   ]
  },
  {
   "cell_type": "code",
   "execution_count": null,
   "metadata": {
    "collapsed": true
   },
   "outputs": [],
   "source": []
  },
  {
   "cell_type": "code",
   "execution_count": null,
   "metadata": {
    "collapsed": true
   },
   "outputs": [],
   "source": []
  }
 ],
 "metadata": {
  "kernelspec": {
   "display_name": "Python 2",
   "language": "python",
   "name": "python2"
  },
  "language_info": {
   "codemirror_mode": {
    "name": "ipython",
    "version": 2
   },
   "file_extension": ".py",
   "mimetype": "text/x-python",
   "name": "python",
   "nbconvert_exporter": "python",
   "pygments_lexer": "ipython2",
   "version": "2.7.6"
  }
 },
 "nbformat": 4,
 "nbformat_minor": 0
}
